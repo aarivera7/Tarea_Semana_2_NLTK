{
 "cells": [
  {
   "cell_type": "code",
   "execution_count": 7,
   "id": "4a9b4efd",
   "metadata": {},
   "outputs": [
    {
     "name": "stderr",
     "output_type": "stream",
     "text": [
      "[nltk_data] Downloading package stopwords to\n",
      "[nltk_data]     C:\\Users\\adria\\AppData\\Roaming\\nltk_data...\n",
      "[nltk_data]   Package stopwords is already up-to-date!\n"
     ]
    },
    {
     "data": {
      "application/vnd.jupyter.widget-view+json": {
       "model_id": "e88b0535a2984b96a76b157552307a7c",
       "version_major": 2,
       "version_minor": 0
      },
      "text/plain": [
       "Downloading https://raw.githubusercontent.com/stanfordnlp/stanza-resources/main/resources_1.4.0.json:   0%|   …"
      ]
     },
     "metadata": {},
     "output_type": "display_data"
    },
    {
     "name": "stderr",
     "output_type": "stream",
     "text": [
      "2022-05-11 16:47:44 INFO: Downloading default packages for language: es (Spanish)...\n",
      "2022-05-11 16:47:47 INFO: File exists: C:\\Users\\adria\\stanza_resources\\es\\default.zip\n",
      "2022-05-11 16:47:55 INFO: Finished downloading models and saved to C:\\Users\\adria\\stanza_resources.\n"
     ]
    }
   ],
   "source": [
    "# Se descarga las librerias de nltk\n",
    "# !pip install nltk\n",
    "# !pip install stanza\n",
    "\n",
    "# Se importa la libreria de pandas y nltk\n",
    "import pandas as pd\n",
    "import nltk\n",
    "# import spacy\n",
    "import stanza\n",
    "\n",
    "# Se importa el conector para MongoBD\n",
    "import pymongo\n",
    "\n",
    "# Se descarga la WordNet desde nltk\n",
    "# nltk.download('wordnet')\n",
    "# nltk.download('punkt')\n",
    "# nltk.download('omw-1.4')\n",
    "nltk.download('stopwords')\n",
    "stanza.download('es')\n",
    "\n",
    "# from nltk.stem import WordNetLemmatizer\n",
    "from nltk.stem.snowball import SpanishStemmer\n",
    "from nltk.tokenize import word_tokenize\n",
    "from nltk.corpus import stopwords\n",
    "import string\n",
    "import re"
   ]
  },
  {
   "cell_type": "code",
   "execution_count": 8,
   "id": "e1659e0a",
   "metadata": {},
   "outputs": [
    {
     "data": {
      "text/html": [
       "<div>\n",
       "<style scoped>\n",
       "    .dataframe tbody tr th:only-of-type {\n",
       "        vertical-align: middle;\n",
       "    }\n",
       "\n",
       "    .dataframe tbody tr th {\n",
       "        vertical-align: top;\n",
       "    }\n",
       "\n",
       "    .dataframe thead th {\n",
       "        text-align: right;\n",
       "    }\n",
       "</style>\n",
       "<table border=\"1\" class=\"dataframe\">\n",
       "  <thead>\n",
       "    <tr style=\"text-align: right;\">\n",
       "      <th></th>\n",
       "      <th>feedback</th>\n",
       "      <th>codigo</th>\n",
       "    </tr>\n",
       "  </thead>\n",
       "  <tbody>\n",
       "    <tr>\n",
       "      <th>0</th>\n",
       "      <td>De acuerdo a las gráficas elegidas, las mismas...</td>\n",
       "      <td>1866</td>\n",
       "    </tr>\n",
       "    <tr>\n",
       "      <th>1</th>\n",
       "      <td>Nombres de los paises</td>\n",
       "      <td>1867</td>\n",
       "    </tr>\n",
       "    <tr>\n",
       "      <th>2</th>\n",
       "      <td>Ninguna</td>\n",
       "      <td>1868</td>\n",
       "    </tr>\n",
       "    <tr>\n",
       "      <th>3</th>\n",
       "      <td>Creo que hace falta dar un color a cada carrer...</td>\n",
       "      <td>1874</td>\n",
       "    </tr>\n",
       "    <tr>\n",
       "      <th>4</th>\n",
       "      <td>Unirlos en su solo gráfico, aunque cada uno es...</td>\n",
       "      <td>1875</td>\n",
       "    </tr>\n",
       "    <tr>\n",
       "      <th>...</th>\n",
       "      <td>...</td>\n",
       "      <td>...</td>\n",
       "    </tr>\n",
       "    <tr>\n",
       "      <th>1995</th>\n",
       "      <td>Mi trabajo también esta bien hecho.</td>\n",
       "      <td>12653</td>\n",
       "    </tr>\n",
       "    <tr>\n",
       "      <th>1996</th>\n",
       "      <td>Está igual al mio pero por motivos de que no p...</td>\n",
       "      <td>12654</td>\n",
       "    </tr>\n",
       "    <tr>\n",
       "      <th>1997</th>\n",
       "      <td>La imagen</td>\n",
       "      <td>12702</td>\n",
       "    </tr>\n",
       "    <tr>\n",
       "      <th>1998</th>\n",
       "      <td>realizó un adecuado uso de los materiales didá...</td>\n",
       "      <td>12705</td>\n",
       "    </tr>\n",
       "    <tr>\n",
       "      <th>1999</th>\n",
       "      <td>hizo muy buen uso de la explicación sobre la r...</td>\n",
       "      <td>12708</td>\n",
       "    </tr>\n",
       "  </tbody>\n",
       "</table>\n",
       "<p>2000 rows × 2 columns</p>\n",
       "</div>"
      ],
      "text/plain": [
       "                                               feedback  codigo\n",
       "0     De acuerdo a las gráficas elegidas, las mismas...    1866\n",
       "1                                 Nombres de los paises    1867\n",
       "2                                               Ninguna    1868\n",
       "3     Creo que hace falta dar un color a cada carrer...    1874\n",
       "4     Unirlos en su solo gráfico, aunque cada uno es...    1875\n",
       "...                                                 ...     ...\n",
       "1995                Mi trabajo también esta bien hecho.   12653\n",
       "1996  Está igual al mio pero por motivos de que no p...   12654\n",
       "1997                                         La imagen    12702\n",
       "1998  realizó un adecuado uso de los materiales didá...   12705\n",
       "1999  hizo muy buen uso de la explicación sobre la r...   12708\n",
       "\n",
       "[2000 rows x 2 columns]"
      ]
     },
     "execution_count": 8,
     "metadata": {},
     "output_type": "execute_result"
    }
   ],
   "source": [
    "data = pd.read_csv('data_total_con_codigo_001.csv')\n",
    "data = data.drop(columns=['Unnamed: 0'])\n",
    "data = data[:2000]\n",
    "data"
   ]
  },
  {
   "cell_type": "code",
   "execution_count": 9,
   "id": "6410e45b",
   "metadata": {},
   "outputs": [],
   "source": [
    "stop_words = set(stopwords.words('spanish'))"
   ]
  },
  {
   "cell_type": "code",
   "execution_count": 18,
   "id": "737e5f33",
   "metadata": {},
   "outputs": [
    {
     "data": {
      "application/vnd.jupyter.widget-view+json": {
       "model_id": "659ac9419a9e49a3a82d175c178190aa",
       "version_major": 2,
       "version_minor": 0
      },
      "text/plain": [
       "Downloading https://raw.githubusercontent.com/stanfordnlp/stanza-resources/main/resources_1.4.0.json:   0%|   …"
      ]
     },
     "metadata": {},
     "output_type": "display_data"
    },
    {
     "name": "stderr",
     "output_type": "stream",
     "text": [
      "2022-05-11 17:07:17 WARNING: Language es package default expects mwt, which has been added\n",
      "2022-05-11 17:07:17 INFO: Loading these models for language: es (Spanish):\n",
      "=======================\n",
      "| Processor | Package |\n",
      "-----------------------\n",
      "| tokenize  | ancora  |\n",
      "| mwt       | ancora  |\n",
      "| lemma     | ancora  |\n",
      "=======================\n",
      "\n",
      "2022-05-11 17:07:17 INFO: Use device: cpu\n",
      "2022-05-11 17:07:17 INFO: Loading: tokenize\n",
      "2022-05-11 17:07:17 INFO: Loading: mwt\n",
      "2022-05-11 17:07:17 INFO: Loading: lemma\n",
      "2022-05-11 17:07:17 INFO: Done loading processors!\n"
     ]
    },
    {
     "data": {
      "text/plain": [
       "[{'codigo': 1866,\n",
       "  'feedback_o': 'De acuerdo a las gráficas elegidas, las mismas estarian completas',\n",
       "  'feedback': 'de acuerdo gráfica elegido mismo estarian completo'},\n",
       " {'codigo': 1867,\n",
       "  'feedback_o': 'Nombres de los paises',\n",
       "  'feedback': 'nombre pais'},\n",
       " {'codigo': 1868, 'feedback_o': 'Ninguna', 'feedback': 'ninguno'},\n",
       " {'codigo': 1874,\n",
       "  'feedback_o': 'Creo que hace falta dar un color a cada carrera para poder diferenciarlas en la gráfica y además como ya mencione el nombre de una carrera esta incompleto aquel que dice \\\\\"Ingeniería de prevención de Rie\\\\\" y en la misma además falta el numero de estudiantes.',\n",
       "  'feedback': 'creer hacer falta dar color cada carrera poder diferenciarlas gráfico además mencione nombre carrera incompleto aquel decir Ingeniería prevención rie mismo además falta numero estudiante'},\n",
       " {'codigo': 1875,\n",
       "  'feedback_o': 'Unirlos en su solo gráfico, aunque cada uno esta muy bien desarrollado ',\n",
       "  'feedback': 'unirlo solo gráfico aunque cada bien desarrollar'},\n",
       " {'codigo': 1876,\n",
       "  'feedback_o': 'Creo que en la segunda gráfica en el eje y se debía haber puesto hasta el 15 ya que Bolívar llega a 14.58 y sobrepasa el eje.',\n",
       "  'feedback': 'creer segundo gráfico eje deber haber puesto 15 Bolívar llegar 14.58 sobrepasar eje'},\n",
       " {'codigo': 1877,\n",
       "  'feedback_o': 'Mejorar el título.',\n",
       "  'feedback': 'mejorar título'},\n",
       " {'codigo': 1878,\n",
       "  'feedback_o': 'Creo que el título esta muy pequeño y también la información de los ejes x e y.',\n",
       "  'feedback': 'creer título pequeño información eje x'},\n",
       " {'codigo': 1879,\n",
       "  'feedback_o': 'Creo que simplemente el título hay que mejorarlo.',\n",
       "  'feedback': 'creer simplemente título mejorarlo'},\n",
       " {'codigo': 1880,\n",
       "  'feedback_o': 'En mi opinión no falta ya estamos recién empezando a graficar.',\n",
       "  'feedback': 'en opinión falta recién empezar graficar'},\n",
       " {'codigo': 1890,\n",
       "  'feedback_o': 'El título del PBI Nominal no se puede visualizar completamente.',\n",
       "  'feedback': 'el título pbi nominal poder visualizar completamente'},\n",
       " {'codigo': 1891,\n",
       "  'feedback_o': 'En el titulo \\\\\"Diversidad biologica\\\\\" hubiera colocado: \\\\\"Numero de anfibios por sector\\\\\" ya que es a lo que especificamente se refiere la grafica. En general está muy bien hecha',\n",
       "  'feedback': 'en titulo diversidad biologicamenlelogicamicamicamicamicamicamicar colocar numero anfibio sector especificamente referir grafica en general bien hecho'},\n",
       " {'codigo': 1893,\n",
       "  'feedback_o': 'Los datos a interpretar están sencillos por lo que la considero completa',\n",
       "  'feedback': 'el dato interpretar sencillo considerar completo'},\n",
       " {'codigo': 1894,\n",
       "  'feedback_o': 'Para este ejemplo hubiese sido más conveniente usar un gráfico de puntos. DotChart',\n",
       "  'feedback': 'para ejemplo ser conveniente usar gráfico punto dotchart'},\n",
       " {'codigo': 1895,\n",
       "  'feedback_o': 'el tema suena interesante perono se cargó ninguna gráfica',\n",
       "  'feedback': 'tema sonar interesante perono cargar ninguno gráfico'},\n",
       " {'codigo': 1896,\n",
       "  'feedback_o': 'No ha subido ningún gráfico, sólo está la descripción.',\n",
       "  'feedback': 'no subir ninguno gráfico sólo descripción'},\n",
       " {'codigo': 1897,\n",
       "  'feedback_o': 'a mi criterio personal, se que este es un grafico muy bien elaborado, y aplicando los conocimientos adquiridos en este primer ciclo',\n",
       "  'feedback': 'criterio personal grafico bien elaborado aplicando conocimiento adquirido primero ciclo'},\n",
       " {'codigo': 1898,\n",
       "  'feedback_o': 'Debería cambiar la orientación de las etiquetas del eje X',\n",
       "  'feedback': 'debería cambiar orientación etiqueta eje x'},\n",
       " {'codigo': 1899,\n",
       "  'feedback_o': 'no me refleja ninguna grafica, para poder emitir  un comentario',\n",
       "  'feedback': 'reflejar ninguno grafica poder emitir comentario'},\n",
       " {'codigo': 1900,\n",
       "  'feedback_o': 'Considero que la gráfica es correcta, el tema no es lo suficientemente claro. El ingreso es divido en deciles, sin embargo no es claro en que participa el ingreso',\n",
       "  'feedback': 'considero gráfico correcto tema suficientemente claro el ingreso divido decil embargo claro participar ingreso'}]"
      ]
     },
     "execution_count": 18,
     "metadata": {},
     "output_type": "execute_result"
    }
   ],
   "source": [
    "nlp = stanza.Pipeline(lang='es',processors='tokenize,lemma', tokenize_pretokenized=True)\n",
    "# nlp = spacy.load('es_core_news_sm')\n",
    "\n",
    "list_lema = []\n",
    "for i in range(len(data)):\n",
    "    sentence = nltk.word_tokenize(re.sub(\"\\!|\\\\\\\\|\\'|\\\"\", \" \", data.iloc[i]['feedback']),\"spanish\")\n",
    "    sentence = list(filter(lambda token: token not in string.punctuation, sentence))\n",
    "    \n",
    "    words = []\n",
    "    for word in sentence:\n",
    "        if word not in stop_words:\n",
    "            words.append(nlp(word).sentences[0].words[0].lemma)\n",
    "    \n",
    "    list_lema.append({\n",
    "        'codigo': int(data.iloc[i]['codigo']),\n",
    "        'feedback_o': data.iloc[i]['feedback'],\n",
    "        'feedback': ' '.join(words)\n",
    "    })\n",
    "    \n",
    "list_lema[:20]"
   ]
  },
  {
   "cell_type": "code",
   "execution_count": 6,
   "id": "b45673ae",
   "metadata": {},
   "outputs": [
    {
     "name": "stdout",
     "output_type": "stream",
     "text": [
      "OK -- Connected to MongoDB at server 127.0.0.1\n",
      "Collection(Database(MongoClient(host=['127.0.0.1:27017'], document_class=dict, tz_aware=False, connect=True), 'TEST'), 'LEMAS')\n",
      "Error with MongoDB connection: cannot encode object: 1866, of type: <class 'numpy.int64'>\n"
     ]
    }
   ],
   "source": [
    "# wnl = WordNetLemmatizer()\n",
    "# data_final = pd.concat([data['codigo'], [wnl.lemmatize(i) for i in data['feedback']]], axis=1)\n",
    "# data_final\n",
    "\n",
    "MONGODB_HOST = '127.0.0.1'\n",
    "MONGODB_PORT = '27017'\n",
    "\n",
    "URI_CONNECTION = \"mongodb://%s:%s/\" % (MONGODB_HOST, MONGODB_PORT)\n",
    "\n",
    "try:\n",
    "    client = pymongo.MongoClient(URI_CONNECTION)\n",
    "    client.server_info()\n",
    "    print('OK -- Connected to MongoDB at server %s' % (MONGODB_HOST))\n",
    " \n",
    "    database_entry = list_lema\n",
    "    destination = 'LEMAS'\n",
    "    bd = client['TEST']\n",
    "    coleccion = bd[destination]\n",
    "    print(coleccion)\n",
    "    print\n",
    "    coleccion.insert_many(database_entry)\n",
    "    print(\"Data saved at %s collection in %s database: %s\" % (destination, 'TEST', database_entry))\n",
    "    client.close()\n",
    "except Exception as error:\n",
    "    print('Error with MongoDB connection: %s' % error)\n"
   ]
  },
  {
   "cell_type": "code",
   "execution_count": null,
   "id": "d135286e",
   "metadata": {},
   "outputs": [],
   "source": []
  }
 ],
 "metadata": {
  "kernelspec": {
   "display_name": "Python 3 (ipykernel)",
   "language": "python",
   "name": "python3"
  },
  "language_info": {
   "codemirror_mode": {
    "name": "ipython",
    "version": 3
   },
   "file_extension": ".py",
   "mimetype": "text/x-python",
   "name": "python",
   "nbconvert_exporter": "python",
   "pygments_lexer": "ipython3",
   "version": "3.9.6"
  }
 },
 "nbformat": 4,
 "nbformat_minor": 5
}
